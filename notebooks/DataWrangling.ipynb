{
 "cells": [
  {
   "cell_type": "code",
   "execution_count": 58,
   "id": "9a148e7f-2378-45dc-8b5c-216e0e2dc208",
   "metadata": {},
   "outputs": [],
   "source": [
    "import numpy as np\n",
    "import pandas as pd"
   ]
  },
  {
   "cell_type": "code",
   "execution_count": 59,
   "id": "2f48a578-3f08-4101-acbc-217fc0a53de2",
   "metadata": {},
   "outputs": [],
   "source": [
    "ames_data = pd.read_csv(\"../data/ames.csv\")"
   ]
  },
  {
   "cell_type": "code",
   "execution_count": 60,
   "id": "28f76758-8f49-40b9-9bcb-d0e325c9c1b7",
   "metadata": {},
   "outputs": [],
   "source": [
    "zones = [\"RL\", \"RM\", \"RH\"]\n",
    "ames_data = ames_data[ames_data[\"MS Zoning\"].isin(zones)]"
   ]
  },
  {
   "cell_type": "code",
   "execution_count": 61,
   "id": "92dd7b28-a218-45e1-a463-12ddd9058be9",
   "metadata": {},
   "outputs": [],
   "source": [
    "ames_data[\"Total Bathrooms\"] = ames_data[\"Bsmt Full Bath\"] + ames_data[\"Bsmt Half Bath\"] + ames_data[\"Full Bath\"] + ames_data[\"Half Bath\"]"
   ]
  },
  {
   "cell_type": "code",
   "execution_count": 62,
   "id": "a85df154-11e7-4933-a887-e885a888da89",
   "metadata": {},
   "outputs": [],
   "source": [
    "ames_data = ames_data[[\"Lot Area\", \"Overall Qual\", \"Overall Cond\", \"Gr Liv Area\", \"TotRms AbvGrd\", \"Total Bathrooms\", \"Garage Area\", \"Bldg Type\", \"SalePrice\"]]\n",
    "ames_data = ames_data.dropna()\n",
    "ames_data[\"Lot Area\"] = np.log(ames_data[\"Lot Area\"])\n",
    "ames_data[\"Gr Liv Area\"] = np.log(ames_data[\"Gr Liv Area\"])\n",
    "ames_data[\"SalePrice\"] = np.log(ames_data[\"SalePrice\"])"
   ]
  },
  {
   "cell_type": "code",
   "execution_count": 63,
   "id": "a7ecec07-db2f-4085-85de-cbd4a7088d81",
   "metadata": {},
   "outputs": [],
   "source": [
    "ames_data = ames_data.astype({\"Total Bathrooms\":\"int64\"})"
   ]
  },
  {
   "cell_type": "code",
   "execution_count": 64,
   "id": "9153edfa-b1ad-47bd-822b-1820ca126eee",
   "metadata": {},
   "outputs": [
    {
     "data": {
      "text/html": [
       "<div>\n",
       "<style scoped>\n",
       "    .dataframe tbody tr th:only-of-type {\n",
       "        vertical-align: middle;\n",
       "    }\n",
       "\n",
       "    .dataframe tbody tr th {\n",
       "        vertical-align: top;\n",
       "    }\n",
       "\n",
       "    .dataframe thead th {\n",
       "        text-align: right;\n",
       "    }\n",
       "</style>\n",
       "<table border=\"1\" class=\"dataframe\">\n",
       "  <thead>\n",
       "    <tr style=\"text-align: right;\">\n",
       "      <th></th>\n",
       "      <th>Lot Area</th>\n",
       "      <th>Overall Qual</th>\n",
       "      <th>Overall Cond</th>\n",
       "      <th>Gr Liv Area</th>\n",
       "      <th>TotRms AbvGrd</th>\n",
       "      <th>Total Bathrooms</th>\n",
       "      <th>Garage Area</th>\n",
       "      <th>Bldg Type</th>\n",
       "      <th>SalePrice</th>\n",
       "    </tr>\n",
       "  </thead>\n",
       "  <tbody>\n",
       "    <tr>\n",
       "      <th>0</th>\n",
       "      <td>10.366278</td>\n",
       "      <td>6</td>\n",
       "      <td>5</td>\n",
       "      <td>7.412160</td>\n",
       "      <td>7</td>\n",
       "      <td>2</td>\n",
       "      <td>528.0</td>\n",
       "      <td>1Fam</td>\n",
       "      <td>12.278393</td>\n",
       "    </tr>\n",
       "    <tr>\n",
       "      <th>1</th>\n",
       "      <td>9.360655</td>\n",
       "      <td>5</td>\n",
       "      <td>6</td>\n",
       "      <td>6.797940</td>\n",
       "      <td>5</td>\n",
       "      <td>1</td>\n",
       "      <td>730.0</td>\n",
       "      <td>1Fam</td>\n",
       "      <td>11.561716</td>\n",
       "    </tr>\n",
       "    <tr>\n",
       "      <th>2</th>\n",
       "      <td>9.565704</td>\n",
       "      <td>6</td>\n",
       "      <td>6</td>\n",
       "      <td>7.192182</td>\n",
       "      <td>6</td>\n",
       "      <td>2</td>\n",
       "      <td>312.0</td>\n",
       "      <td>1Fam</td>\n",
       "      <td>12.055250</td>\n",
       "    </tr>\n",
       "    <tr>\n",
       "      <th>3</th>\n",
       "      <td>9.320091</td>\n",
       "      <td>7</td>\n",
       "      <td>5</td>\n",
       "      <td>7.654443</td>\n",
       "      <td>8</td>\n",
       "      <td>4</td>\n",
       "      <td>522.0</td>\n",
       "      <td>1Fam</td>\n",
       "      <td>12.404924</td>\n",
       "    </tr>\n",
       "    <tr>\n",
       "      <th>4</th>\n",
       "      <td>9.534595</td>\n",
       "      <td>5</td>\n",
       "      <td>5</td>\n",
       "      <td>7.395722</td>\n",
       "      <td>6</td>\n",
       "      <td>3</td>\n",
       "      <td>482.0</td>\n",
       "      <td>1Fam</td>\n",
       "      <td>12.154253</td>\n",
       "    </tr>\n",
       "  </tbody>\n",
       "</table>\n",
       "</div>"
      ],
      "text/plain": [
       "    Lot Area  Overall Qual  Overall Cond  Gr Liv Area  TotRms AbvGrd  \\\n",
       "0  10.366278             6             5     7.412160              7   \n",
       "1   9.360655             5             6     6.797940              5   \n",
       "2   9.565704             6             6     7.192182              6   \n",
       "3   9.320091             7             5     7.654443              8   \n",
       "4   9.534595             5             5     7.395722              6   \n",
       "\n",
       "   Total Bathrooms  Garage Area Bldg Type  SalePrice  \n",
       "0                2        528.0      1Fam  12.278393  \n",
       "1                1        730.0      1Fam  11.561716  \n",
       "2                2        312.0      1Fam  12.055250  \n",
       "3                4        522.0      1Fam  12.404924  \n",
       "4                3        482.0      1Fam  12.154253  "
      ]
     },
     "execution_count": 64,
     "metadata": {},
     "output_type": "execute_result"
    }
   ],
   "source": [
    "ames_data.head()"
   ]
  },
  {
   "cell_type": "code",
   "execution_count": null,
   "id": "4630d06b-e73c-4c46-ad59-e8b8324c0fa3",
   "metadata": {},
   "outputs": [],
   "source": []
  }
 ],
 "metadata": {
  "kernelspec": {
   "display_name": "Python 3 (ipykernel)",
   "language": "python",
   "name": "python3"
  },
  "language_info": {
   "codemirror_mode": {
    "name": "ipython",
    "version": 3
   },
   "file_extension": ".py",
   "mimetype": "text/x-python",
   "name": "python",
   "nbconvert_exporter": "python",
   "pygments_lexer": "ipython3",
   "version": "3.11.6"
  }
 },
 "nbformat": 4,
 "nbformat_minor": 5
}
