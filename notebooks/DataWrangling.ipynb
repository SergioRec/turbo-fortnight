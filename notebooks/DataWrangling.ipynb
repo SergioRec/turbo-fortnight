{
 "cells": [
  {
   "cell_type": "code",
   "execution_count": 32,
   "id": "9a148e7f-2378-45dc-8b5c-216e0e2dc208",
   "metadata": {},
   "outputs": [],
   "source": [
    "import pandas as pd"
   ]
  },
  {
   "cell_type": "code",
   "execution_count": 41,
   "id": "2f48a578-3f08-4101-acbc-217fc0a53de2",
   "metadata": {},
   "outputs": [],
   "source": [
    "ames_data = pd.read_csv(\"../data/ames.csv\")"
   ]
  },
  {
   "cell_type": "code",
   "execution_count": 42,
   "id": "28f76758-8f49-40b9-9bcb-d0e325c9c1b7",
   "metadata": {},
   "outputs": [],
   "source": [
    "zones = [\"RL\", \"RM\", \"RH\"]\n",
    "ames_data = ames_data[ames_data[\"MS Zoning\"].isin(zones)]"
   ]
  },
  {
   "cell_type": "code",
   "execution_count": 43,
   "id": "92dd7b28-a218-45e1-a463-12ddd9058be9",
   "metadata": {},
   "outputs": [],
   "source": [
    "ames_data[\"Total Bathrooms\"] = ames_data[\"Bsmt Full Bath\"] + ames_data[\"Bsmt Half Bath\"] + ames_data[\"Full Bath\"] + ames_data[\"Half Bath\"]"
   ]
  },
  {
   "cell_type": "code",
   "execution_count": 44,
   "id": "a85df154-11e7-4933-a887-e885a888da89",
   "metadata": {},
   "outputs": [],
   "source": [
    "ames_data = ames_data[[\"Lot Area\", \"Overall Qual\", \"Overall Cond\", \"TotRms AbvGrd\", \"Total Bathrooms\", \"Garage Area\", \"Bldg Type\"]]\n",
    "ames_data = ames_data.dropna()"
   ]
  },
  {
   "cell_type": "code",
   "execution_count": 45,
   "id": "a7ecec07-db2f-4085-85de-cbd4a7088d81",
   "metadata": {},
   "outputs": [],
   "source": [
    "ames_data = ames_data.astype({\"Total Bathrooms\":\"int64\"})"
   ]
  },
  {
   "cell_type": "code",
   "execution_count": 46,
   "id": "9153edfa-b1ad-47bd-822b-1820ca126eee",
   "metadata": {},
   "outputs": [
    {
     "data": {
      "text/html": [
       "<div>\n",
       "<style scoped>\n",
       "    .dataframe tbody tr th:only-of-type {\n",
       "        vertical-align: middle;\n",
       "    }\n",
       "\n",
       "    .dataframe tbody tr th {\n",
       "        vertical-align: top;\n",
       "    }\n",
       "\n",
       "    .dataframe thead th {\n",
       "        text-align: right;\n",
       "    }\n",
       "</style>\n",
       "<table border=\"1\" class=\"dataframe\">\n",
       "  <thead>\n",
       "    <tr style=\"text-align: right;\">\n",
       "      <th></th>\n",
       "      <th>Lot Area</th>\n",
       "      <th>Overall Qual</th>\n",
       "      <th>Overall Cond</th>\n",
       "      <th>TotRms AbvGrd</th>\n",
       "      <th>Total Bathrooms</th>\n",
       "      <th>Garage Area</th>\n",
       "      <th>Bldg Type</th>\n",
       "    </tr>\n",
       "  </thead>\n",
       "  <tbody>\n",
       "    <tr>\n",
       "      <th>0</th>\n",
       "      <td>31770</td>\n",
       "      <td>6</td>\n",
       "      <td>5</td>\n",
       "      <td>7</td>\n",
       "      <td>2</td>\n",
       "      <td>528.0</td>\n",
       "      <td>1Fam</td>\n",
       "    </tr>\n",
       "    <tr>\n",
       "      <th>1</th>\n",
       "      <td>11622</td>\n",
       "      <td>5</td>\n",
       "      <td>6</td>\n",
       "      <td>5</td>\n",
       "      <td>1</td>\n",
       "      <td>730.0</td>\n",
       "      <td>1Fam</td>\n",
       "    </tr>\n",
       "    <tr>\n",
       "      <th>2</th>\n",
       "      <td>14267</td>\n",
       "      <td>6</td>\n",
       "      <td>6</td>\n",
       "      <td>6</td>\n",
       "      <td>2</td>\n",
       "      <td>312.0</td>\n",
       "      <td>1Fam</td>\n",
       "    </tr>\n",
       "    <tr>\n",
       "      <th>3</th>\n",
       "      <td>11160</td>\n",
       "      <td>7</td>\n",
       "      <td>5</td>\n",
       "      <td>8</td>\n",
       "      <td>4</td>\n",
       "      <td>522.0</td>\n",
       "      <td>1Fam</td>\n",
       "    </tr>\n",
       "    <tr>\n",
       "      <th>4</th>\n",
       "      <td>13830</td>\n",
       "      <td>5</td>\n",
       "      <td>5</td>\n",
       "      <td>6</td>\n",
       "      <td>3</td>\n",
       "      <td>482.0</td>\n",
       "      <td>1Fam</td>\n",
       "    </tr>\n",
       "  </tbody>\n",
       "</table>\n",
       "</div>"
      ],
      "text/plain": [
       "   Lot Area  Overall Qual  Overall Cond  TotRms AbvGrd  Total Bathrooms  \\\n",
       "0     31770             6             5              7                2   \n",
       "1     11622             5             6              5                1   \n",
       "2     14267             6             6              6                2   \n",
       "3     11160             7             5              8                4   \n",
       "4     13830             5             5              6                3   \n",
       "\n",
       "   Garage Area Bldg Type  \n",
       "0        528.0      1Fam  \n",
       "1        730.0      1Fam  \n",
       "2        312.0      1Fam  \n",
       "3        522.0      1Fam  \n",
       "4        482.0      1Fam  "
      ]
     },
     "execution_count": 46,
     "metadata": {},
     "output_type": "execute_result"
    }
   ],
   "source": [
    "ames_data.head()"
   ]
  },
  {
   "cell_type": "code",
   "execution_count": null,
   "id": "4630d06b-e73c-4c46-ad59-e8b8324c0fa3",
   "metadata": {},
   "outputs": [],
   "source": []
  }
 ],
 "metadata": {
  "kernelspec": {
   "display_name": "Python 3 (ipykernel)",
   "language": "python",
   "name": "python3"
  },
  "language_info": {
   "codemirror_mode": {
    "name": "ipython",
    "version": 3
   },
   "file_extension": ".py",
   "mimetype": "text/x-python",
   "name": "python",
   "nbconvert_exporter": "python",
   "pygments_lexer": "ipython3",
   "version": "3.11.6"
  }
 },
 "nbformat": 4,
 "nbformat_minor": 5
}
