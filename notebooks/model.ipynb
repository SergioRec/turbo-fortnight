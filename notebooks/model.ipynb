{
 "cells": [
  {
   "cell_type": "code",
   "execution_count": 58,
   "metadata": {
    "collapsed": true
   },
   "outputs": [],
   "source": [
    "# Step 1"
   ]
  },
  {
   "cell_type": "code",
   "execution_count": null,
   "metadata": {
    "collapsed": true
   },
   "outputs": [],
   "source": [
    "import numpy as np\n",
    "import pandas as pd\n",
    "from sklearn.linear_model import LinearRegression\n",
    "from sklearn.tree import DecisionTreeRegressor"
   ]
  },
  {
   "cell_type": "code",
   "execution_count": 59,
   "metadata": {
    "collapsed": true
   },
   "outputs": [],
   "source": [
    "ames_data = pd.read_csv(\"../data/ames.csv\")"
   ]
  },
  {
   "cell_type": "code",
   "execution_count": 60,
   "metadata": {
    "collapsed": true
   },
   "outputs": [],
   "source": [
    "zones = [\"RL\", \"RM\", \"RH\"]\n",
    "ames_data = ames_data[ames_data[\"MS Zoning\"].isin(zones)]"
   ]
  },
  {
   "cell_type": "code",
   "execution_count": 61,
   "metadata": {
    "collapsed": true
   },
   "outputs": [],
   "source": [
    "ames_data[\"Total Bathrooms\"] = ames_data[\"Bsmt Full Bath\"] + ames_data[\"Bsmt Half Bath\"] + ames_data[\"Full Bath\"] + ames_data[\"Half Bath\"]"
   ]
  },
  {
   "cell_type": "code",
   "execution_count": 62,
   "metadata": {
    "collapsed": true
   },
   "outputs": [],
   "source": [
    "ames_data = ames_data[[\"Lot Area\", \"Overall Qual\", \"Overall Cond\", \"Gr Liv Area\", \"TotRms AbvGrd\", \"Total Bathrooms\", \"Garage Area\", \"Bldg Type\", \"SalePrice\"]]\n",
    "ames_data = ames_data.dropna()\n",
    "ames_data[\"Lot Area\"] = np.log(ames_data[\"Lot Area\"])\n",
    "ames_data[\"Gr Liv Area\"] = np.log(ames_data[\"Gr Liv Area\"])\n",
    "ames_data[\"SalePrice\"] = np.log(ames_data[\"SalePrice\"])"
   ]
  },
  {
   "cell_type": "code",
   "execution_count": 63,
   "metadata": {
    "collapsed": true
   },
   "outputs": [],
   "source": [
    "ames_data = ames_data.astype({\"Total Bathrooms\":\"int64\"})"
   ]
  },
  {
   "cell_type": "markdown",
   "metadata": {},
   "source": [
    "### Linear Regression"
   ]
  },
  {
   "cell_type": "code",
   "execution_count": null,
   "metadata": {
    "collapsed": true
   },
   "outputs": [],
   "source": [
    "# Create model object\n",
    "linear_regressor = LinearRegression()\n",
    "\n",
    "# Fit model\n",
    "linear_regressor.fit(X_train, y_train);\n",
    "\n",
    "# Generate predictions from data.\n",
    "y_pred_linear_regressor = linear_regressor.predict(X_test)"
   ]
  },
  {
   "cell_type": "markdown",
   "metadata": {},
   "source": [
    "### Decision Tree Regressor"
   ]
  },
  {
   "cell_type": "code",
   "execution_count": null,
   "metadata": {
    "collapsed": true
   },
   "outputs": [],
   "source": [
    "# Create model object\n",
    "decision_tree_regressor = DecisionTreeRegressor()\n",
    "\n",
    "# Fit model\n",
    "decision_tree_regressor.fit(X_train, y_train);\n",
    "\n",
    "# Generate predictions from data.\n",
    "y_pred_decision_tree_regressor = decision_tree_regressor.predict(X_test);"
   ]
  },
  {
   "cell_type": "markdown",
   "metadata": {},
   "source": [
    "### Model Evaluation"
   ]
  },
  {
   "cell_type": "code",
   "execution_count": null,
   "metadata": {
    "collapsed": true
   },
   "outputs": [],
   "source": []
  }
 ],
 "metadata": {
  "jupytext": {
   "formats": "ipynb,auto:percent"
  },
  "kernelspec": {
   "display_name": "Python 3",
   "language": "python",
   "name": "python3"
  },
  "language_info": {
   "codemirror_mode": {
    "name": "ipython",
    "version": 3
   },
   "file_extension": ".py",
   "mimetype": "text/x-python",
   "name": "python",
   "nbconvert_exporter": "python",
   "pygments_lexer": "ipython3",
   "version": "3.6.2"
  }
 },
 "nbformat": 4,
 "nbformat_minor": 5
}
