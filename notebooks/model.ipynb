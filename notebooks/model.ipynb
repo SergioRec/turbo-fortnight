{
 "cells": [
  {
   "cell_type": "code",
   "execution_count": 58,
   "id": "9a148e7f-2378-45dc-8b5c-216e0e2dc208",
   "metadata": {},
   "outputs": [],
   "source": [
    "#Step 1"
   ]
  },
  {
   "cell_type": "code",
   "execution_count": null,
   "id": "2e8a8878-f90c-4a6e-9916-10e37b2dc32f",
   "metadata": {},
   "outputs": [],
   "source": [
    "import numpy as np\n",
    "import pandas as pd"
   ]
  },
  {
   "cell_type": "code",
   "execution_count": 59,
   "id": "2f48a578-3f08-4101-acbc-217fc0a53de2",
   "metadata": {},
   "outputs": [],
   "source": [
    "ames_data = pd.read_csv(\"../data/ames.csv\")"
   ]
  },
  {
   "cell_type": "code",
   "execution_count": 60,
   "id": "28f76758-8f49-40b9-9bcb-d0e325c9c1b7",
   "metadata": {},
   "outputs": [],
   "source": [
    "zones = [\"RL\", \"RM\", \"RH\"]\n",
    "ames_data = ames_data[ames_data[\"MS Zoning\"].isin(zones)]"
   ]
  },
  {
   "cell_type": "code",
   "execution_count": 61,
   "id": "92dd7b28-a218-45e1-a463-12ddd9058be9",
   "metadata": {},
   "outputs": [],
   "source": [
    "ames_data[\"Total Bathrooms\"] = ames_data[\"Bsmt Full Bath\"] + ames_data[\"Bsmt Half Bath\"] + ames_data[\"Full Bath\"] + ames_data[\"Half Bath\"]"
   ]
  },
  {
   "cell_type": "code",
   "execution_count": 62,
   "id": "a85df154-11e7-4933-a887-e885a888da89",
   "metadata": {},
   "outputs": [],
   "source": [
    "ames_data = ames_data[[\"Lot Area\", \"Overall Qual\", \"Overall Cond\", \"Gr Liv Area\", \"TotRms AbvGrd\", \"Total Bathrooms\", \"Garage Area\", \"Bldg Type\", \"SalePrice\"]]\n",
    "ames_data = ames_data.dropna()\n",
    "ames_data[\"Lot Area\"] = np.log(ames_data[\"Lot Area\"])\n",
    "ames_data[\"Gr Liv Area\"] = np.log(ames_data[\"Gr Liv Area\"])\n",
    "ames_data[\"SalePrice\"] = np.log(ames_data[\"SalePrice\"])"
   ]
  },
  {
   "cell_type": "code",
   "execution_count": 63,
   "id": "a7ecec07-db2f-4085-85de-cbd4a7088d81",
   "metadata": {},
   "outputs": [],
   "source": [
    "ames_data = ames_data.astype({\"Total Bathrooms\":\"int64\"})"
   ]
  },
  {
   "cell_type": "code",
   "execution_count": null,
   "id": "4630d06b-e73c-4c46-ad59-e8b8324c0fa3",
   "metadata": {},
   "outputs": [],
   "source": []
  }
 ],
 "metadata": {
  "kernelspec": {
   "display_name": "Python 3 (ipykernel)",
   "language": "python",
   "name": "python3"
  },
  "language_info": {
   "codemirror_mode": {
    "name": "ipython",
    "version": 3
   },
   "file_extension": ".py",
   "mimetype": "text/x-python",
   "name": "python",
   "nbconvert_exporter": "python",
   "pygments_lexer": "ipython3",
   "version": "3.11.6"
  }
 },
 "nbformat": 4,
 "nbformat_minor": 5
}
