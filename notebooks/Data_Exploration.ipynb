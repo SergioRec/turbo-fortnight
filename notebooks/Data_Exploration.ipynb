{
 "cells": [
  {
   "cell_type": "code",
   "execution_count": null,
   "id": "06a50e0e-bac6-4232-a036-d3a7ef5b31e3",
   "metadata": {},
   "outputs": [],
   "source": [
    "import pandas as pd\n",
    "import numpy as np\n",
    "from ydata_profiling import ProfileReport"
   ]
  },
  {
   "cell_type": "code",
   "execution_count": null,
   "id": "af100cf2-5d32-4044-8c97-a1faea7ce804",
   "metadata": {},
   "outputs": [],
   "source": [
    "ames_data = pd.read_csv(\"../data/ames.csv\")"
   ]
  },
  {
   "cell_type": "code",
   "execution_count": null,
   "id": "50818395-bc3d-44ed-8593-f9419ae06df4",
   "metadata": {},
   "outputs": [],
   "source": [
    "ames_report = ProfileReport(ames_data, title=\"Ames Report\")\n",
    "ames_report.to_file(\"../outputs/ames.html\")"
   ]
  },
  {
   "cell_type": "code",
   "execution_count": null,
   "id": "d22a6095-2ff2-4954-af57-09b0e198f53e",
   "metadata": {},
   "outputs": [],
   "source": []
  }
 ],
 "metadata": {
  "kernelspec": {
   "display_name": "Python 3 (ipykernel)",
   "language": "python",
   "name": "python3"
  },
  "language_info": {
   "codemirror_mode": {
    "name": "ipython",
    "version": 3
   },
   "file_extension": ".py",
   "mimetype": "text/x-python",
   "name": "python",
   "nbconvert_exporter": "python",
   "pygments_lexer": "ipython3",
   "version": "3.11.6"
  }
 },
 "nbformat": 4,
 "nbformat_minor": 5
}
